{
 "cells": [
  {
   "cell_type": "code",
   "execution_count": 1,
   "metadata": {},
   "outputs": [],
   "source": [
    "from bs4 import BeautifulSoup\n",
    "import urllib.request \n",
    "import nltk\n",
    "from nltk.corpus import stopwords\n",
    "from nltk.tokenize import sent_tokenize\n",
    "from nltk.tokenize import word_tokenize\n",
    "from nltk.corpus import wordnet"
   ]
  },
  {
   "cell_type": "code",
   "execution_count": 2,
   "metadata": {},
   "outputs": [
    {
     "name": "stdout",
     "output_type": "stream",
     "text": [
      "PHP::1\n",
      "Hypertext:1\n",
      "PreprocessorDownloadsDocumentationGet:1\n",
      "InvolvedHelpGetting:1\n",
      "StartedIntroductionA:1\n",
      "simple:1\n",
      "tutorialLanguage:1\n",
      "ReferenceBasic:1\n",
      "syntaxTypesVariablesConstantsExpressionsOperatorsControl:1\n",
      "StructuresFunctionsClasses:1\n",
      "ObjectsNamespacesEnumerationsErrorsExceptionsFibersGeneratorsAttributesReferences:1\n",
      "ExplainedPredefined:1\n",
      "VariablesPredefined:1\n",
      "ExceptionsPredefined:1\n",
      "Interfaces:1\n",
      "ClassesPredefined:1\n",
      "AttributesContext:1\n",
      "options:1\n",
      "parametersSupported:1\n",
      "Protocols:1\n",
      "WrappersSecurityIntroductionGeneral:1\n",
      "considerationsInstalled:1\n",
      "CGI:1\n",
      "binaryInstalled:1\n",
      "Apache:1\n",
      "moduleSession:1\n",
      "SecurityFilesystem:1\n",
      "SecurityDatabase:1\n",
      "SecurityError:1\n",
      "ReportingUser:1\n",
      "Submitted:1\n",
      "DataHiding:1\n",
      "PHPKeeping:1\n",
      "CurrentFeaturesHTTP:1\n",
      "authentication:1\n",
      "PHPCookiesSessionsDealing:1\n",
      "XFormsHandling:1\n",
      "file:1\n",
      "uploadsUsing:1\n",
      "remote:1\n",
      "filesConnection:1\n",
      "handlingPersistent:1\n",
      "Database:1\n",
      "ConnectionsCommand:1\n",
      "line:1\n",
      "usageGarbage:1\n",
      "CollectionDTrace:1\n",
      "Dynamic:1\n",
      "TracingFunction:1\n",
      "ReferenceAffecting:1\n",
      "PHP's:1\n",
      "BehaviourAudio:1\n",
      "Formats:1\n",
      "ManipulationAuthentication:1\n",
      "ServicesCommand:1\n",
      "Line:1\n",
      "Specific:2\n",
      "ExtensionsCompression:1\n",
      "Archive:1\n",
      "ExtensionsCryptography:1\n",
      "ExtensionsDatabase:1\n",
      "ExtensionsDate:1\n",
      "Time:1\n",
      "Related:4\n",
      "ExtensionsFile:1\n",
      "System:1\n",
      "ExtensionsHuman:1\n",
      "Language:1\n",
      "Character:1\n",
      "Encoding:1\n",
      "SupportImage:1\n",
      "Processing:1\n",
      "GenerationMail:1\n",
      "ExtensionsMathematical:1\n",
      "ExtensionsNon-Text:1\n",
      "MIME:1\n",
      "OutputProcess:1\n",
      "Control:1\n",
      "ExtensionsOther:2\n",
      "Basic:1\n",
      "ServicesSearch:1\n",
      "Engine:1\n",
      "ExtensionsServer:1\n",
      "ExtensionsSession:1\n",
      "ExtensionsText:1\n",
      "ProcessingVariable:1\n",
      "Type:1\n",
      "ExtensionsWeb:1\n",
      "ServicesWindows:1\n",
      "Only:1\n",
      "ExtensionsXML:1\n",
      "ManipulationGUI:1\n",
      "ExtensionsKeyboard:1\n",
      "Shortcuts?This:1\n",
      "helpjNext:1\n",
      "menu:2\n",
      "itemkPrevious:1\n",
      "itemg:1\n",
      "pPrevious:1\n",
      "man:2\n",
      "pageg:1\n",
      "nNext:1\n",
      "pageGScroll:1\n",
      "bottomg:1\n",
      "gScroll:1\n",
      "topg:1\n",
      "hGoto:1\n",
      "homepageg:1\n",
      "sGoto:1\n",
      "search(current:1\n",
      "page)/Focus:1\n",
      "search:1\n",
      "boxApopular:1\n",
      "general-purpose:1\n",
      "scripting:1\n",
      "languagethat:1\n",
      "especially:1\n",
      "suited:1\n",
      "web:1\n",
      "development.Fast,:1\n",
      "flexible:1\n",
      "pragmatic,:1\n",
      "PHP:118\n",
      "powers:1\n",
      "everything:1\n",
      "blog:1\n",
      "popular:1\n",
      "websites:1\n",
      "world.What's:1\n",
      "new:13\n",
      "8.1Download8.1.12·Changelog·Upgrading8.0.25·Changelog·Upgrading7.4.33·Changelog·Upgrading10:1\n",
      "Nov:4\n",
      "2022PHP:25\n",
      "8.2.0:25\n",
      "RC:11\n",
      "6:2\n",
      "available:12\n",
      "testingThe:12\n",
      "team:25\n",
      "pleased:12\n",
      "announce:12\n",
      "release:72\n",
      "8.2.0,:15\n",
      "6.:1\n",
      "This:24\n",
      "sixth:2\n",
      "candidate,:3\n",
      "continuing:3\n",
      "8.2:12\n",
      "cycle,:12\n",
      "rough:12\n",
      "outline:12\n",
      "specified:12\n",
      "thePHP:12\n",
      "Wiki.For:12\n",
      "source:38\n",
      "downloads:25\n",
      "please:25\n",
      "visit:25\n",
      "thedownload:12\n",
      "page.Please:12\n",
      "carefully:12\n",
      "test:24\n",
      "version:25\n",
      "report:12\n",
      "issues:12\n",
      "found:50\n",
      "thebug:12\n",
      "reporting:12\n",
      "system.Please:12\n",
      "DO:12\n",
      "NOT:13\n",
      "use:12\n",
      "production,:12\n",
      "early:13\n",
      "version.For:24\n",
      "information:12\n",
      "features:12\n",
      "changes,:12\n",
      "read:13\n",
      "theNEWSfile:3\n",
      "theUPGRADINGfile:12\n",
      "complete:12\n",
      "list:25\n",
      "upgrading:12\n",
      "notes.:12\n",
      "These:12\n",
      "files:12\n",
      "also:12\n",
      "archive.The:12\n",
      "next:12\n",
      "seventh:1\n",
      "candidate:10\n",
      "(RC:7\n",
      "7),:1\n",
      "planned:12\n",
      "24th:1\n",
      "2022.The:12\n",
      "signatures:12\n",
      "inthe:4\n",
      "manifestor:4\n",
      "onthe:4\n",
      "QA:4\n",
      "site.Thank:12\n",
      "helping:12\n",
      "us:12\n",
      "make:12\n",
      "better.03:1\n",
      "7.4.33:2\n",
      "Released!The:13\n",
      "development:13\n",
      "announces:13\n",
      "immediate:13\n",
      "availability:13\n",
      "7.4.33.This:1\n",
      "security:9\n",
      "fixes:1\n",
      "OOB:1\n",
      "due:1\n",
      "insufficient:1\n",
      "input:1\n",
      "validation:1\n",
      "imageloadfont(),:1\n",
      "buffer:1\n",
      "overflow:1\n",
      "hash_update():1\n",
      "long:1\n",
      "parameter.All:1\n",
      "7.4:2\n",
      "users:13\n",
      "encouraged:13\n",
      "upgrade:13\n",
      "ourdownloads:13\n",
      "page,:13\n",
      "Windows:13\n",
      "binaries:13\n",
      "onwindows.php.net/download/.:13\n",
      "The:14\n",
      "changes:13\n",
      "recorded:13\n",
      "theChangeLog.28:2\n",
      "Oct:5\n",
      "8.1.12:2\n",
      "8.1.12.:1\n",
      "release.All:11\n",
      "8.1:5\n",
      "8.0.25:2\n",
      "8.0.25.:1\n",
      "fix:5\n",
      "8.0:6\n",
      "theChangeLog.27:1\n",
      "RC5:2\n",
      "fifth:2\n",
      "5.:1\n",
      "continues:8\n",
      "theNEWSfile,:9\n",
      "6),:1\n",
      "10th:1\n",
      "themanifestor:8\n",
      "theQA:8\n",
      "better.13:1\n",
      "4:3\n",
      "4.:1\n",
      "fourth:2\n",
      "5),:1\n",
      "27:1\n",
      "October:1\n",
      "better.30:1\n",
      "Sep:8\n",
      "8.0.24:2\n",
      "8.0.24.:1\n",
      "theChangeLog.29:2\n",
      "RC3:2\n",
      "third:4\n",
      "3.:3\n",
      "4),:1\n",
      "13th:1\n",
      "better.29:1\n",
      "8.1.11:2\n",
      "8.1.11.:1\n",
      "7.4.32:2\n",
      "7.4.32.:1\n",
      "release.This:1\n",
      "addresses:1\n",
      "infinite:1\n",
      "recursion:1\n",
      "specially:1\n",
      "constructed:1\n",
      "phar:1\n",
      "files,:1\n",
      "prevents:1\n",
      "clash:1\n",
      "variable:1\n",
      "name:1\n",
      "mangling:1\n",
      "__Host/__Secure:1\n",
      "HTTP:1\n",
      "headers.All:1\n",
      "theChangeLog.15:1\n",
      "RC2:1\n",
      "2.:3\n",
      "second:4\n",
      "2:5\n",
      "3),:1\n",
      "29:1\n",
      "September:1\n",
      "better.01:2\n",
      "RC1:2\n",
      "first:4\n",
      "1.:3\n",
      "2),:1\n",
      "Sept:2\n",
      "15th:1\n",
      "8.0.23:2\n",
      "8.0.23.:1\n",
      "theChangeLog.01:1\n",
      "8.1.10:2\n",
      "8.1.10.:1\n",
      "bug:5\n",
      "theChangeLog.18:1\n",
      "Aug:6\n",
      "Beta:12\n",
      "3:4\n",
      "beta:3\n",
      "1),:1\n",
      "1:5\n",
      "better.04:2\n",
      "8.1.9:2\n",
      "8.1.9.:1\n",
      "theChangeLog.04:1\n",
      "3,:2\n",
      "18:1\n",
      "8.0.22:2\n",
      "8.0.22.:1\n",
      "theChangeLog.21:1\n",
      "Jul:6\n",
      "version.Because:1\n",
      "testing:4\n",
      "release,:1\n",
      "usable:1\n",
      "ZTS:1\n",
      "builds.For:1\n",
      "2,:2\n",
      "better.07:2\n",
      "8.1.8:2\n",
      "8.1.8.:1\n",
      "theChangeLog.07:1\n",
      "Alpha:11\n",
      "1,:1\n",
      "21:1\n",
      "8.0.21:2\n",
      "8.0.21.:1\n",
      "theChangeLog.23:1\n",
      "Jun:4\n",
      "7:1\n",
      "better.09:1\n",
      "8.0.20:2\n",
      "8.0.20.:1\n",
      "theChangeLog.09:1\n",
      "starts:1\n",
      "23:1\n",
      "better.Older:1\n",
      "News:1\n",
      "EntriesUpcoming:1\n",
      "conferencesphp[tek]:1\n",
      "2023:1\n",
      "-:1\n",
      "Chicago,:1\n",
      "ILSymfonyWorld:1\n",
      "Online:1\n",
      "2022:1\n",
      "Winter:1\n",
      "EditionPHP:1\n",
      "Russia:1\n",
      "2022Conferences:1\n",
      "calling:1\n",
      "papersphp[tek]:1\n",
      "2023User:1\n",
      "Group:1\n",
      "EventsSpecial:1\n",
      "ThanksSocial:1\n",
      "media@official_phpCopyright:1\n",
      "©:1\n",
      "2001-2022:1\n",
      "GroupMy:1\n",
      "PHP.netContactOther:1\n",
      "PHP.net:1\n",
      "sitesPrivacy:1\n",
      "policyView:1\n",
      "Source:1\n"
     ]
    }
   ],
   "source": [
    "response = urllib.request.urlopen('http://php.net/') # open a web\n",
    "html = response.read() # read this web\n",
    "soup = BeautifulSoup(html, \"html5lib\") # 结果包含许多需要清理的HTML标签。然后BeautifulSoup模块来清洗这样的文字\n",
    "text = soup.get_text(strip = True) \n",
    "tokens = [t for t in text.split()] #将文本转换为tokens\n",
    "clean_tokens = list()\n",
    "sr = stopwords.words('english') # 清除无效的停用词\n",
    "for token in tokens:\n",
    "    if not token in sr:\n",
    "        clean_tokens.append(token)\n",
    "freq = nltk.FreqDist(clean_tokens) # 使用Python NLTK统计token的频率分布\n",
    "for key, val in freq.items():\n",
    "    print(str(key) + ':' + str(val))"
   ]
  },
  {
   "cell_type": "code",
   "execution_count": 3,
   "metadata": {},
   "outputs": [
    {
     "data": {
      "image/png": "[encoded data removed]",
      "text/plain": [
       "<Figure size 640x480 with 1 Axes>"
      ]
     },
     "metadata": {},
     "output_type": "display_data"
    },
    {
     "data": {
      "text/plain": [
       "<AxesSubplot:xlabel='Samples', ylabel='Counts'>"
      ]
     },
     "execution_count": 3,
     "metadata": {},
     "output_type": "execute_result"
    }
   ],
   "source": [
    "freq.plot(20, cumulative=False) # 可以调用plot函数做出频率分布图"
   ]
  },
  {
   "cell_type": "code",
   "execution_count": 4,
   "metadata": {},
   "outputs": [
    {
     "name": "stdout",
     "output_type": "stream",
     "text": [
      "['Hello Mr. Adam, how are you?', 'I hope everything is going well.', 'Today is a good day,']\n",
      "['Hello', 'Mr.', 'Adam', ',', 'how', 'are', 'you', '?', 'I', 'hope', 'everything', 'is', 'going', 'well', '.', 'Today', 'is', 'a', 'good', 'day', ',']\n"
     ]
    }
   ],
   "source": [
    "# 使用句子tokenizer将文本tokenize成句子:\n",
    "# Mr.这个词没有被分开\n",
    "mytext = \"Hello Mr. Adam, how are you? I hope everything is going well. Today is a good day,\"\n",
    "print (sent_tokenize(mytext))\n",
    "print (word_tokenize(mytext))"
   ]
  },
  {
   "cell_type": "code",
   "execution_count": 5,
   "metadata": {},
   "outputs": [
    {
     "name": "stdout",
     "output_type": "stream",
     "text": [
      "a symptom of some physical hurt or disorder\n",
      "['the patient developed severe pain and distension']\n"
     ]
    }
   ],
   "source": [
    "# 同义词处理\n",
    "syn = wordnet.synsets(\"pain\")\n",
    "print(syn[0].definition())\n",
    "print(syn[0].examples())"
   ]
  },
  {
   "cell_type": "code",
   "execution_count": 6,
   "metadata": {},
   "outputs": [
    {
     "name": "stdout",
     "output_type": "stream",
     "text": [
      "['computer', 'computing_machine', 'computing_device', 'data_processor', 'electronic_computer', 'information_processing_system', 'calculator', 'reckoner', 'figurer', 'estimator', 'computer']\n"
     ]
    }
   ],
   "source": [
    "# 使用WordNet来获取同义词:\n",
    "synonyms = []\n",
    "for syn in wordnet.synsets('Computer'):\n",
    "    for lemma in syn.lemmas():\n",
    "        synonyms.append(lemma.name())\n",
    "print(synonyms)"
   ]
  },
  {
   "cell_type": "code",
   "execution_count": 7,
   "metadata": {},
   "outputs": [
    {
     "name": "stdout",
     "output_type": "stream",
     "text": [
      "['large', 'big', 'big']\n"
     ]
    }
   ],
   "source": [
    "# 反义词处理:\n",
    "antonyms = []\n",
    "for syn in wordnet.synsets(\"small\"):\n",
    "    for l in syn.lemmas():\n",
    "        if l.antonyms():\n",
    "            antonyms.append(l.antonyms()[0].name())\n",
    "print(antonyms)"
   ]
  },
  {
   "cell_type": "code",
   "execution_count": 8,
   "metadata": {},
   "outputs": [
    {
     "name": "stdout",
     "output_type": "stream",
     "text": [
      "work\n",
      "<PorterStemmer>\n"
     ]
    }
   ],
   "source": [
    "#词干提取\n",
    "from nltk.stem import PorterStemmer\n",
    "\n",
    "stemmer = PorterStemmer()\n",
    "print(stemmer.stem('working'))\n",
    "print(stemmer)"
   ]
  },
  {
   "cell_type": "code",
   "execution_count": 9,
   "metadata": {},
   "outputs": [
    {
     "name": "stdout",
     "output_type": "stream",
     "text": [
      "('arabic', 'danish', 'dutch', 'english', 'finnish', 'french', 'german', 'hungarian', 'italian', 'norwegian', 'porter', 'portuguese', 'romanian', 'russian', 'spanish', 'swedish')\n"
     ]
    }
   ],
   "source": [
    "# 非英文词干提取\n",
    "from nltk.stem import SnowballStemmer\n",
    "\n",
    "print(SnowballStemmer.languages)"
   ]
  },
  {
   "cell_type": "code",
   "execution_count": 10,
   "metadata": {},
   "outputs": [
    {
     "name": "stdout",
     "output_type": "stream",
     "text": [
      "french word\n"
     ]
    }
   ],
   "source": [
    "from nltk.stem import SnowballStemmer\n",
    "\n",
    "french_stemmer = SnowballStemmer('french')\n",
    "print(french_stemmer.stem(\"French word\"))"
   ]
  },
  {
   "cell_type": "code",
   "execution_count": 11,
   "metadata": {},
   "outputs": [
    {
     "name": "stdout",
     "output_type": "stream",
     "text": [
      "increas\n"
     ]
    }
   ],
   "source": [
    "# 单词变体还原\n",
    "from nltk.stem import PorterStemmer\n",
    "\n",
    "stemmer = PorterStemmer()\n",
    "\n",
    "print(stemmer.stem('increases'))"
   ]
  },
  {
   "cell_type": "code",
   "execution_count": 14,
   "metadata": {},
   "outputs": [
    {
     "name": "stdout",
     "output_type": "stream",
     "text": [
      "increase\n"
     ]
    }
   ],
   "source": [
    "# 用NLTK的WordNet来对同一个单词进行变体还原，才是正确的结果:\n",
    "from nltk.stem import WordNetLemmatizer\n",
    "\n",
    "lemmatizer = WordNetLemmatizer()\n",
    "\n",
    "print(lemmatizer.lemmatize('increases'))"
   ]
  },
  {
   "cell_type": "code",
   "execution_count": 1,
   "metadata": {},
   "outputs": [
    {
     "name": "stdout",
     "output_type": "stream",
     "text": [
      "play\n",
      "playing\n",
      "playing\n",
      "playing\n"
     ]
    }
   ],
   "source": [
    "# 结果还可以是动词(v)、名词(n)、形容词(a)或副词(r)：\n",
    "from nltk.stem import WordNetLemmatizer\n",
    "\n",
    "lemmatizer = WordNetLemmatizer()\n",
    "print(lemmatizer.lemmatize('playing', pos=\"v\"))\n",
    "print(lemmatizer.lemmatize('playing', pos=\"n\"))\n",
    "print(lemmatizer.lemmatize('playing', pos=\"a\"))\n",
    "print(lemmatizer.lemmatize('playing', pos=\"r\"))"
   ]
  },
  {
   "cell_type": "code",
   "execution_count": 2,
   "metadata": {},
   "outputs": [
    {
     "name": "stdout",
     "output_type": "stream",
     "text": [
      "stone\n",
      "speak\n",
      "bedroom\n",
      "joke\n",
      "lisa\n",
      "purpl\n",
      "----------------------\n",
      "stone\n",
      "speaking\n",
      "bedroom\n",
      "joke\n",
      "lisa\n",
      "purple\n"
     ]
    }
   ],
   "source": [
    "# 词干提取不会考虑语境，这也是为什么词干提取比变体还原快且准确度低的原因。\n",
    "from nltk.stem import WordNetLemmatizer\n",
    "from nltk.stem import PorterStemmer\n",
    " \n",
    "stemmer = PorterStemmer()\n",
    "lemmatizer = WordNetLemmatizer()\n",
    "print(stemmer.stem('stones'))\n",
    "print(stemmer.stem('speaking'))\n",
    "print(stemmer.stem('bedroom'))\n",
    "print(stemmer.stem('jokes'))\n",
    "print(stemmer.stem('lisa'))\n",
    "print(stemmer.stem('purple'))\n",
    "print('----------------------')\n",
    "print(lemmatizer.lemmatize('stones'))\n",
    "print(lemmatizer.lemmatize('speaking'))\n",
    "print(lemmatizer.lemmatize('bedroom'))\n",
    "print(lemmatizer.lemmatize('jokes'))\n",
    "print(lemmatizer.lemmatize('lisa'))\n",
    "print(lemmatizer.lemmatize('purple'))"
   ]
  }
 ],
 "metadata": {
  "kernelspec": {
   "display_name": "Python 3.10.4 64-bit",
   "language": "python",
   "name": "python3"
  },
  "language_info": {
   "codemirror_mode": {
    "name": "ipython",
    "version": 3
   },
   "file_extension": ".py",
   "mimetype": "text/x-python",
   "name": "python",
   "nbconvert_exporter": "python",
   "pygments_lexer": "ipython3",
   "version": "3.10.4"
  },
  "orig_nbformat": 4,
  "vscode": {
   "interpreter": {
    "hash": "118d2d70b9837ec74e99cd8e271bd7c1e24309015268c38b027840ab45e80ec0"
   }
  }
 },
 "nbformat": 4,
 "nbformat_minor": 2
}
